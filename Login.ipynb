{
 "cells": [
  {
   "cell_type": "code",
   "execution_count": null,
   "id": "34b19648-0a48-4b44-a9f5-139ab9b3d1f6",
   "metadata": {},
   "outputs": [],
   "source": [
    "print(\"login\")"
   ]
  }
 ],
 "metadata": {
  "kernelspec": {
   "display_name": "Python 3 (ipykernel)",
   "language": "python",
   "name": "python3"
  },
  "language_info": {
   "codemirror_mode": {
    "name": "ipython",
    "version": 3
   },
   "file_extension": ".py",
   "mimetype": "text/x-python",
   "name": "python",
   "nbconvert_exporter": "python",
   "pygments_lexer": "ipython3",
   "version": "3.11.4"
  }
 },
 "nbformat": 4,
 "nbformat_minor": 5
}
